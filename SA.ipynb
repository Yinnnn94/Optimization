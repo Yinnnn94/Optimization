{
 "cells": [
  {
   "cell_type": "code",
   "execution_count": 1,
   "id": "893604ad",
   "metadata": {},
   "outputs": [],
   "source": [
    "import random as rand\n",
    "import numpy as np\n",
    "import matplotlib.pyplot as plt"
   ]
  },
  {
   "cell_type": "code",
   "execution_count": 7,
   "id": "996355d1",
   "metadata": {},
   "outputs": [
    {
     "data": {
      "image/png": "[encoded data removed]",
      "text/plain": [
       "<Figure size 432x288 with 1 Axes>"
      ]
     },
     "metadata": {
      "needs_background": "light"
     },
     "output_type": "display_data"
    }
   ],
   "source": [
    "class SA():\n",
    "    \n",
    "    def __init__(self, t, Best_solution, x1_range, x2_range):\n",
    "        self.t = t\n",
    "        self.Best_solution = Best_solution\n",
    "        self.x1_range = x1_range\n",
    "        self.x2_range = x2_range\n",
    "        \n",
    "    def function(self, x1, x2):\n",
    "        fx = 100*(x2 + (-0.01*(x1**2)) + 1) + 0.01*(x1+10)**2\n",
    "        return fx\n",
    "\n",
    "    def temp_update(self, t):\n",
    "        delta_t = 1 - np.sin(t)\n",
    "        t -= delta_t\n",
    "        return t\n",
    "    \n",
    "    def new_candidtate(self, x1, x2):\n",
    "        new_x1 = x1 + np.cos(x1)\n",
    "        new_x2 = x2 + np.cos(x1)\n",
    "        if (new_x1 not in self.x1_range) and (new_x2 not in self.x2_range):\n",
    "            new_x1 = x1 + np.cos(x1)\n",
    "            new_x2 = x2 + np.cos(x1)\n",
    "        return new_x1, new_x2\n",
    "    \n",
    "    def store_or_pass(self, x1, x2):\n",
    "        y = self.function(x1, x2)\n",
    "        if (y < self.Best_solution) or (rand.random() > np.exp((y - self.Best_solution)/t)):\n",
    "            Best_solution = y\n",
    "            list_solution.append(Best_solution)\n",
    "        else:\n",
    "            \n",
    "            pass\n",
    "        return Best_solution, list_solution\n",
    "\n",
    "        \n",
    "t = 100\n",
    "Best_solution = 1000\n",
    "iter_ = 20\n",
    "list_solution = []\n",
    "x1_range = range(-15, -5)\n",
    "x2_range = range(-3, 3)\n",
    "\n",
    "x1 = rand.uniform(-15,-5)\n",
    "x2 = rand.uniform(-3,3)\n",
    "sa = SA(t, Best_solution, x1_range, x2_range)\n",
    "Best_solution = sa.store_or_pass(x1, x2)\n",
    "t = sa.temp_update(t)\n",
    "x1, x2 = sa.new_candidtate(x1,x2)\n",
    "\n",
    "for a in range(iter_):    \n",
    "    if t >= 0:\n",
    "        Best_solution, list_solution = sa.store_or_pass(x1, x2)\n",
    "        x1, x2 = sa.new_candidtate(x1, x2)\n",
    "        t = sa.temp_update(t)\n",
    "plt.plot(list_solution)\n",
    "plt.show() "
   ]
  },
  {
   "cell_type": "code",
   "execution_count": 171,
   "id": "c9d41054",
   "metadata": {},
   "outputs": [
    {
     "data": {
      "text/plain": [
       "-142.39565599081746"
      ]
     },
     "execution_count": 171,
     "metadata": {},
     "output_type": "execute_result"
    }
   ],
   "source": [
    "min(list_solution)"
   ]
  }
 ],
 "metadata": {
  "kernelspec": {
   "display_name": "Python 3 (ipykernel)",
   "language": "python",
   "name": "python3"
  },
  "language_info": {
   "codemirror_mode": {
    "name": "ipython",
    "version": 3
   },
   "file_extension": ".py",
   "mimetype": "text/x-python",
   "name": "python",
   "nbconvert_exporter": "python",
   "pygments_lexer": "ipython3",
   "version": "3.9.12"
  }
 },
 "nbformat": 4,
 "nbformat_minor": 5
}
